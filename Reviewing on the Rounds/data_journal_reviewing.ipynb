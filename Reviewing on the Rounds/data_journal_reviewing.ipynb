{
  "nbformat": 4,
  "nbformat_minor": 0,
  "metadata": {
    "colab": {
      "provenance": []
    },
    "kernelspec": {
      "name": "python3",
      "display_name": "Python 3"
    },
    "language_info": {
      "name": "python"
    }
  },
  "cells": [
    {
      "cell_type": "code",
      "execution_count": 1,
      "metadata": {
        "id": "skqGREmCUbNz",
        "colab": {
          "base_uri": "https://localhost:8080/"
        },
        "outputId": "2eef77b1-22f3-4d75-aee2-e6c34f414038"
      },
      "outputs": [
        {
          "output_type": "stream",
          "name": "stdout",
          "text": [
            "Mounted at /content/gdrive/\n"
          ]
        },
        {
          "output_type": "execute_result",
          "data": {
            "text/plain": [
              "(1652, 29)"
            ]
          },
          "metadata": {},
          "execution_count": 1
        }
      ],
      "source": [
        "import pandas as pd\n",
        "from datetime import datetime\n",
        "from collections import Counter\n",
        "from google.colab import drive\n",
        "import numpy as np\n",
        "\n",
        "drive.mount('/content/gdrive/')\n",
        "data = pd.read_csv(\"/content/gdrive/MyDrive/data_reviewing.csv\",on_bad_lines='skip',sep=\";\")\n",
        "\n",
        "#data = pd.read_csv(\"dataarticles2_1.csv\",on_bad_lines='skip',sep=\";\")\n",
        "\n",
        "\n",
        "\n",
        "data.shape"
      ]
    },
    {
      "cell_type": "code",
      "source": [
        "for x in [\"Дата поступления\", \"Дата в работе\", \"Дата решения\",\"Дата первичной\",\\\n",
        "          \"Дата вторичного\",\t\"Дата вторичной\",\t\"Дата третичной\",\\\n",
        "          \"Дата третичного\",\t\"Дата четверичной\",\t\"Дата четверичного\",\\\n",
        "          \"Дата пятиричной\",\t\"Дата пятиричного\",\t\"Дата шестиничной\",]:\n",
        "  data[x] = pd.to_datetime(data[x], format='%d.%m.%Y')\n",
        "\n",
        "\n",
        "\n",
        "data['Решение']=data['Решение'].str.lower()\n",
        "data['Решение']=data['Решение'].str.replace(' ', '')\n",
        "\n",
        "df=pd.DataFrame(data.groupby(['Название', 'Дата поступления'])).values#.size())\n",
        "\n",
        "\n",
        "#df=pd.DataFrame(data.groupby.agg(['Название', 'Поступила']))\n",
        "\n",
        "\n",
        "#data.groupby(data[\"Поступила\"].dt.year)['Название'].unique()\n",
        "\n",
        "#df = pd.DataFrame(data[\"Название\",\"Поступила\"].unique())\n",
        "\n",
        "\n",
        "#df = pd.DataFrame(pd.concat([data['Название'], data['Поступила']]).unique())\n",
        "\n",
        "\n",
        "#df=pd.DataFrame(pd.unique(data[['Название', 'Поступила']].values.ravel('K')))\n",
        "\n",
        "\n",
        "#print(df)\n",
        "\n",
        "\n",
        "\"\"\"\n",
        "\n",
        "df=df.rename(columns={0: \"Название\"})\n",
        "\n",
        "\n",
        "#result=data.merge(df['Название'])\n",
        "\n",
        "#result = pd.merge(df, data, on=['Название'], how='left')\n",
        "\n",
        "\n",
        "#df.merge(data, left_on = \"Название\", right_on =\"Поступила\")\n",
        "\n",
        "\n",
        "#result= pd.merge(data, left=\"Название\", right=\"Поступила\", on=\"Название\")\n",
        "#\n",
        "\n",
        "df[\"Поступила\"]=datetime(2023, 1, 1)\n",
        "\n",
        "len(df)\n",
        "\n",
        "#result = pd.merge(data, df,how=\"inner\")\n",
        "\n",
        "#result = pd.DataFrame(pd.unique(data[['Название', 'Поступила']].values.ravel('K')))\n",
        "\n",
        "\n",
        "#pd.merge(df, data, on='Название', how='outer')\n",
        "#df = pd.merge(df, data, on=df[\"Название\"].index, how='left')\n",
        "\n",
        "\n",
        "result = pd.concat([df, data],axis=1, ignore_index=True, sort=False)\n",
        "\n",
        "date_articles = pd.DataFrame(result[3][0:624])\n",
        "#print(data[\"Название\"])\n",
        "\n",
        "#result.head()\n",
        "\n",
        "#print(len(result))\n",
        "#type(result)\n",
        "\n",
        "#result\n",
        "\n",
        "\n",
        "print(date_articles.min())\n",
        "\n",
        "#data.groupby(data[\"Поступила\"].dt.year)['Название'].unique()\n",
        "\n",
        "for i in range(2016,2023):\n",
        "  print(\"c \",i-1,\" до \",i, end=\" \")\n",
        "  months_= date_articles[(date_articles[\"Поступила\"]>datetime(i-1, 1, 1)) & (date_articles[\"Поступила\"]<datetime(i, 1, 1))].groupby(date_articles[\"Поступила\"].dt.month)[\"Поступила\"].count()\n",
        "  print(months_)\n",
        "\n",
        "df=df.drop(columns=[1])\n",
        "\n",
        "df1=pd.DataFrame(columns=['A'])\n",
        "\n",
        "for i in range(len(df)):\n",
        "  df1.append({\"A\": df[0][i][1]},ignore_index=True)\n",
        "#  print(df[0][i][1])\n",
        "\n",
        "#print(df[0][0][1]-df[0][1][1])\n",
        "df1\n",
        "\"\"\""
      ],
      "metadata": {
        "colab": {
          "base_uri": "https://localhost:8080/",
          "height": 137
        },
        "id": "wAdgRzwNuZA-",
        "outputId": "2a372f8a-87f9-4037-a3d7-378b51d66522"
      },
      "execution_count": 2,
      "outputs": [
        {
          "output_type": "execute_result",
          "data": {
            "text/plain": [
              "'\\n\\ndf=df.rename(columns={0: \"Название\"})\\n\\n\\n#result=data.merge(df[\\'Название\\'])\\n\\n#result = pd.merge(df, data, on=[\\'Название\\'], how=\\'left\\')\\n\\n\\n#df.merge(data, left_on = \"Название\", right_on =\"Поступила\")\\n\\n\\n#result= pd.merge(data, left=\"Название\", right=\"Поступила\", on=\"Название\")\\n#\\n\\ndf[\"Поступила\"]=datetime(2023, 1, 1)\\n\\nlen(df)\\n\\n#result = pd.merge(data, df,how=\"inner\")\\n\\n#result = pd.DataFrame(pd.unique(data[[\\'Название\\', \\'Поступила\\']].values.ravel(\\'K\\')))\\n\\n\\n#pd.merge(df, data, on=\\'Название\\', how=\\'outer\\')\\n#df = pd.merge(df, data, on=df[\"Название\"].index, how=\\'left\\')\\n\\n\\nresult = pd.concat([df, data],axis=1, ignore_index=True, sort=False)\\n\\ndate_articles = pd.DataFrame(result[3][0:624])\\n#print(data[\"Название\"])\\n\\n#result.head()\\n\\n#print(len(result))\\n#type(result)\\n\\n#result\\n\\n\\nprint(date_articles.min())\\n\\n#data.groupby(data[\"Поступила\"].dt.year)[\\'Название\\'].unique()\\n\\nfor i in range(2016,2023):\\n  print(\"c \",i-1,\" до \",i, end=\" \")\\n  months_= date_articles[(date_articles[\"Поступила\"]>datetime(i-1, 1, 1)) & (date_articles[\"Поступила\"]<datetime(i, 1, 1))].groupby(date_articles[\"Поступила\"].dt.month)[\"Поступила\"].count()\\n  print(months_)\\n\\ndf=df.drop(columns=[1])\\n\\ndf1=pd.DataFrame(columns=[\\'A\\'])\\n\\nfor i in range(len(df)):\\n  df1.append({\"A\": df[0][i][1]},ignore_index=True)\\n#  print(df[0][i][1])\\n\\n#print(df[0][0][1]-df[0][1][1])\\ndf1\\n'"
            ],
            "application/vnd.google.colaboratory.intrinsic+json": {
              "type": "string"
            }
          },
          "metadata": {},
          "execution_count": 2
        }
      ]
    },
    {
      "cell_type": "code",
      "source": [
        "data['Рецензент']=data['Рецензент'].str.replace(' ', '')\n",
        "\n",
        "data['Первичное'].values[data['Первичное'] > 80] = 0\n",
        "\n",
        "data['Вторичное'].values[data['Вторичное'] > 80] = 0\n",
        "\n",
        "data['Третичное'].values[data['Третичное'] > 80] = 0\n",
        "\n",
        "data['Первичная'].values[data['Первичная'] > 80] = 0\n",
        "\n",
        "data['Вторичная'].values[data['Вторичная'] > 80] = 0\n",
        "\n",
        "data['Третичная'].values[data['Третичная'] > 80] = 0\n",
        "\n",
        "\n",
        "\"\"\"\n",
        "for x in [\"Дата поступления\", \"Дата в работе\", \"Дата решения\",\"Дата первичной\",\\\n",
        "          \"Дата вторичного\",\t\"Дата вторичной\",\t\"Дата третичной\",\\\n",
        "          \"Дата третичного\",\t\"Дата четверичной\",\t\"Дата четверичного\",\\\n",
        "          \"Дата пятиричной\",\t\"Дата пятиричного\",\t\"Дата шестиничной\",]:\n",
        "\"\"\"\n",
        "\n",
        "#data[(data[\"Поступила\"]>datetime(2022, 1, 1))].describe()\n",
        "\n",
        "for i in range(2016,2023):\n",
        "  print(i,\" год\", end=\" \")\n",
        "  #print(round(\n",
        "  #(date_articles[\"Поступила\"]>datetime(i-1, 1, 1)) & (date_articles[\"Поступила\"]<datetime(i, 1, 1)))].mean()[1]\n",
        "\n",
        "\n",
        "\n",
        "#print(datetime(2020, 1, 1)-datetime(2019, 12, 1))\n",
        "#data[\"days_to_checkin\"] = (data[\"Дата на рецензию\"] - data[\"Поступила\"]).dt.days\n",
        "\n",
        "#data.describe()\n",
        "\n",
        "#data.head()\n",
        "\n",
        "#data.describe(include=\"all\")"
      ],
      "metadata": {
        "id": "FIrx-t5hUrLh",
        "colab": {
          "base_uri": "https://localhost:8080/"
        },
        "outputId": "868946a0-af76-4c38-ad19-2cfd6ebe5d7f"
      },
      "execution_count": 3,
      "outputs": [
        {
          "output_type": "stream",
          "name": "stdout",
          "text": [
            "2016  год 2017  год 2018  год 2019  год 2020  год 2021  год 2022  год "
          ]
        }
      ]
    },
    {
      "cell_type": "code",
      "source": [
        "\"\"\"\n",
        "import pandas as pd\n",
        "from sklearn import preprocessing\n",
        "\n",
        "x = data.values #returns a numpy array\n",
        "min_max_scaler = preprocessing.MinMaxScaler()\n",
        "x_scaled = min_max_scaler.fit_transform(x)\n",
        "data = pd.DataFrame(x_scaled)\n",
        "\"\"\"\n",
        "\"\"\"\n",
        "data[\"Первичное\"]=data[\"Первичное\"]/data[\"Первичное\"].sum()\n",
        "data[\"Вторичное\"]=data[\"Вторичное\"]/data[\"Вторичное\"].sum()\n",
        "data[\"Третичное\"]=data[\"Третичное\"]/data[\"Третичное\"].sum()\n",
        "\"\"\"\n",
        "\n",
        "import matplotlib.pyplot as plt\n",
        "\n",
        "data.describe()\n",
        "\n",
        "\n",
        "#data[\"Первичное\"].hist()\n",
        "#data[\"Вторичное\"].hist()\n",
        "\n",
        "#data[(data[\"Рецензент\"]==\"Щеглов\")].hist(\"Первичное\",range=[0,100])\n",
        "\n",
        "data['Первичное'].values[data['Первичное'] > 70] = 0\n",
        "data['Вторичное'].values[data['Вторичное'] > 60] = 0\n",
        "data['Третичное'].values[data['Третичное'] > 60] = 0\n",
        "\n",
        "\n",
        "print(data[(data[\"Первичная\"]<70) & (data[\"Первичная\"]>1)].count()[0])\n",
        "\n",
        "\n",
        "data.hist(\"Первичная\",range=[1,79],bins=8)\n",
        "plt.plot([2*(data[\"Первичная\"].mean()*3-i)*10*data[(data[\"Первичная\"]<80) & (data[\"Первичная\"]>0)].count()[0]/(data[\"Первичная\"].mean()*3)**2 for i in range(1,70)],linewidth = 6)\n",
        "plt.show()\n",
        "\n",
        "\n",
        "#print(data[(data[\"Первичная\"]<80)].count())\n",
        "\n",
        "#data.hist(\"Вторичная\",range=[1,80],bins=8)\n",
        "\n",
        "#data.hist(\"Третичная\",range=[1,80],bins=8)\n",
        "\n",
        "#set(data[\"Рецензент\"].unique())\n",
        "\n",
        "#data.head()\n",
        "\n",
        "#print(data[\"Первичное\"].sum())\n",
        "\n",
        "#print(data[\"Вторичное\"].sum())\n",
        "\n",
        "#print(data[\"Третичное\"].sum())\n",
        "\n",
        "data.describe()\n"
      ],
      "metadata": {
        "id": "0x4b66wfWfht",
        "colab": {
          "base_uri": "https://localhost:8080/",
          "height": 749
        },
        "outputId": "0670ea71-1a5d-413b-f4b9-ac00de7a9115"
      },
      "execution_count": 4,
      "outputs": [
        {
          "output_type": "stream",
          "name": "stdout",
          "text": [
            "337\n"
          ]
        },
        {
          "output_type": "display_data",
          "data": {
            "text/plain": [
              "<Figure size 640x480 with 1 Axes>"
            ],
            "image/png": "[encoded data removed]"
          },
          "metadata": {}
        },
        {
          "output_type": "execute_result",
          "data": {
            "text/plain": [
              "           Молодой    Первичное   Первичная   Вторичное  Вторичная  Третичное  \\\n",
              "count  1649.000000  1652.000000  407.000000  407.000000  90.000000  90.000000   \n",
              "mean      0.737417     8.731235   22.014742    6.990172  11.544444   5.566667   \n",
              "std       0.440171    10.218173   19.205007    9.527502  14.225441   6.874558   \n",
              "min       0.000000     0.000000    0.000000    0.000000   0.000000   0.000000   \n",
              "25%       0.000000     1.000000    5.000000    1.000000   1.000000   1.000000   \n",
              "50%       1.000000     6.000000   18.000000    4.000000   7.000000   3.000000   \n",
              "75%       1.000000    13.000000   35.000000    9.000000  14.750000   7.000000   \n",
              "max       1.000000    66.000000   80.000000   60.000000  74.000000  28.000000   \n",
              "\n",
              "       Третичная  Четреричное  Четверичная  Пятиричное  Пятиричная  \\\n",
              "count  21.000000    20.000000     3.000000    3.000000         1.0   \n",
              "mean   12.523810     4.950000    45.666667   11.666667         4.0   \n",
              "std    14.510751     5.789964    68.821024   15.307950         NaN   \n",
              "min     0.000000     0.000000     2.000000    0.000000         4.0   \n",
              "25%     1.000000     0.750000     6.000000    3.000000         4.0   \n",
              "50%     6.000000     2.500000    10.000000    6.000000         4.0   \n",
              "75%    18.000000     7.250000    67.500000   17.500000         4.0   \n",
              "max    48.000000    20.000000   125.000000   29.000000         4.0   \n",
              "\n",
              "       Шестиричное  \n",
              "count          1.0  \n",
              "mean          14.0  \n",
              "std            NaN  \n",
              "min           14.0  \n",
              "25%           14.0  \n",
              "50%           14.0  \n",
              "75%           14.0  \n",
              "max           14.0  "
            ],
            "text/html": [
              "\n",
              "  <div id=\"df-22bcb931-a386-4f60-ae5e-17e6efa2138b\" class=\"colab-df-container\">\n",
              "    <div>\n",
              "<style scoped>\n",
              "    .dataframe tbody tr th:only-of-type {\n",
              "        vertical-align: middle;\n",
              "    }\n",
              "\n",
              "    .dataframe tbody tr th {\n",
              "        vertical-align: top;\n",
              "    }\n",
              "\n",
              "    .dataframe thead th {\n",
              "        text-align: right;\n",
              "    }\n",
              "</style>\n",
              "<table border=\"1\" class=\"dataframe\">\n",
              "  <thead>\n",
              "    <tr style=\"text-align: right;\">\n",
              "      <th></th>\n",
              "      <th>Молодой</th>\n",
              "      <th>Первичное</th>\n",
              "      <th>Первичная</th>\n",
              "      <th>Вторичное</th>\n",
              "      <th>Вторичная</th>\n",
              "      <th>Третичное</th>\n",
              "      <th>Третичная</th>\n",
              "      <th>Четреричное</th>\n",
              "      <th>Четверичная</th>\n",
              "      <th>Пятиричное</th>\n",
              "      <th>Пятиричная</th>\n",
              "      <th>Шестиричное</th>\n",
              "    </tr>\n",
              "  </thead>\n",
              "  <tbody>\n",
              "    <tr>\n",
              "      <th>count</th>\n",
              "      <td>1649.000000</td>\n",
              "      <td>1652.000000</td>\n",
              "      <td>407.000000</td>\n",
              "      <td>407.000000</td>\n",
              "      <td>90.000000</td>\n",
              "      <td>90.000000</td>\n",
              "      <td>21.000000</td>\n",
              "      <td>20.000000</td>\n",
              "      <td>3.000000</td>\n",
              "      <td>3.000000</td>\n",
              "      <td>1.0</td>\n",
              "      <td>1.0</td>\n",
              "    </tr>\n",
              "    <tr>\n",
              "      <th>mean</th>\n",
              "      <td>0.737417</td>\n",
              "      <td>8.731235</td>\n",
              "      <td>22.014742</td>\n",
              "      <td>6.990172</td>\n",
              "      <td>11.544444</td>\n",
              "      <td>5.566667</td>\n",
              "      <td>12.523810</td>\n",
              "      <td>4.950000</td>\n",
              "      <td>45.666667</td>\n",
              "      <td>11.666667</td>\n",
              "      <td>4.0</td>\n",
              "      <td>14.0</td>\n",
              "    </tr>\n",
              "    <tr>\n",
              "      <th>std</th>\n",
              "      <td>0.440171</td>\n",
              "      <td>10.218173</td>\n",
              "      <td>19.205007</td>\n",
              "      <td>9.527502</td>\n",
              "      <td>14.225441</td>\n",
              "      <td>6.874558</td>\n",
              "      <td>14.510751</td>\n",
              "      <td>5.789964</td>\n",
              "      <td>68.821024</td>\n",
              "      <td>15.307950</td>\n",
              "      <td>NaN</td>\n",
              "      <td>NaN</td>\n",
              "    </tr>\n",
              "    <tr>\n",
              "      <th>min</th>\n",
              "      <td>0.000000</td>\n",
              "      <td>0.000000</td>\n",
              "      <td>0.000000</td>\n",
              "      <td>0.000000</td>\n",
              "      <td>0.000000</td>\n",
              "      <td>0.000000</td>\n",
              "      <td>0.000000</td>\n",
              "      <td>0.000000</td>\n",
              "      <td>2.000000</td>\n",
              "      <td>0.000000</td>\n",
              "      <td>4.0</td>\n",
              "      <td>14.0</td>\n",
              "    </tr>\n",
              "    <tr>\n",
              "      <th>25%</th>\n",
              "      <td>0.000000</td>\n",
              "      <td>1.000000</td>\n",
              "      <td>5.000000</td>\n",
              "      <td>1.000000</td>\n",
              "      <td>1.000000</td>\n",
              "      <td>1.000000</td>\n",
              "      <td>1.000000</td>\n",
              "      <td>0.750000</td>\n",
              "      <td>6.000000</td>\n",
              "      <td>3.000000</td>\n",
              "      <td>4.0</td>\n",
              "      <td>14.0</td>\n",
              "    </tr>\n",
              "    <tr>\n",
              "      <th>50%</th>\n",
              "      <td>1.000000</td>\n",
              "      <td>6.000000</td>\n",
              "      <td>18.000000</td>\n",
              "      <td>4.000000</td>\n",
              "      <td>7.000000</td>\n",
              "      <td>3.000000</td>\n",
              "      <td>6.000000</td>\n",
              "      <td>2.500000</td>\n",
              "      <td>10.000000</td>\n",
              "      <td>6.000000</td>\n",
              "      <td>4.0</td>\n",
              "      <td>14.0</td>\n",
              "    </tr>\n",
              "    <tr>\n",
              "      <th>75%</th>\n",
              "      <td>1.000000</td>\n",
              "      <td>13.000000</td>\n",
              "      <td>35.000000</td>\n",
              "      <td>9.000000</td>\n",
              "      <td>14.750000</td>\n",
              "      <td>7.000000</td>\n",
              "      <td>18.000000</td>\n",
              "      <td>7.250000</td>\n",
              "      <td>67.500000</td>\n",
              "      <td>17.500000</td>\n",
              "      <td>4.0</td>\n",
              "      <td>14.0</td>\n",
              "    </tr>\n",
              "    <tr>\n",
              "      <th>max</th>\n",
              "      <td>1.000000</td>\n",
              "      <td>66.000000</td>\n",
              "      <td>80.000000</td>\n",
              "      <td>60.000000</td>\n",
              "      <td>74.000000</td>\n",
              "      <td>28.000000</td>\n",
              "      <td>48.000000</td>\n",
              "      <td>20.000000</td>\n",
              "      <td>125.000000</td>\n",
              "      <td>29.000000</td>\n",
              "      <td>4.0</td>\n",
              "      <td>14.0</td>\n",
              "    </tr>\n",
              "  </tbody>\n",
              "</table>\n",
              "</div>\n",
              "    <div class=\"colab-df-buttons\">\n",
              "\n",
              "  <div class=\"colab-df-container\">\n",
              "    <button class=\"colab-df-convert\" onclick=\"convertToInteractive('df-22bcb931-a386-4f60-ae5e-17e6efa2138b')\"\n",
              "            title=\"Convert this dataframe to an interactive table.\"\n",
              "            style=\"display:none;\">\n",
              "\n",
              "  <svg xmlns=\"http://www.w3.org/2000/svg\" height=\"24px\" viewBox=\"0 -960 960 960\">\n",
              "    <path d=\"M120-120v-720h720v720H120Zm60-500h600v-160H180v160Zm220 220h160v-160H400v160Zm0 220h160v-160H400v160ZM180-400h160v-160H180v160Zm440 0h160v-160H620v160ZM180-180h160v-160H180v160Zm440 0h160v-160H620v160Z\"/>\n",
              "  </svg>\n",
              "    </button>\n",
              "\n",
              "  <style>\n",
              "    .colab-df-container {\n",
              "      display:flex;\n",
              "      gap: 12px;\n",
              "    }\n",
              "\n",
              "    .colab-df-convert {\n",
              "      background-color: #E8F0FE;\n",
              "      border: none;\n",
              "      border-radius: 50%;\n",
              "      cursor: pointer;\n",
              "      display: none;\n",
              "      fill: #1967D2;\n",
              "      height: 32px;\n",
              "      padding: 0 0 0 0;\n",
              "      width: 32px;\n",
              "    }\n",
              "\n",
              "    .colab-df-convert:hover {\n",
              "      background-color: #E2EBFA;\n",
              "      box-shadow: 0px 1px 2px rgba(60, 64, 67, 0.3), 0px 1px 3px 1px rgba(60, 64, 67, 0.15);\n",
              "      fill: #174EA6;\n",
              "    }\n",
              "\n",
              "    .colab-df-buttons div {\n",
              "      margin-bottom: 4px;\n",
              "    }\n",
              "\n",
              "    [theme=dark] .colab-df-convert {\n",
              "      background-color: #3B4455;\n",
              "      fill: #D2E3FC;\n",
              "    }\n",
              "\n",
              "    [theme=dark] .colab-df-convert:hover {\n",
              "      background-color: #434B5C;\n",
              "      box-shadow: 0px 1px 3px 1px rgba(0, 0, 0, 0.15);\n",
              "      filter: drop-shadow(0px 1px 2px rgba(0, 0, 0, 0.3));\n",
              "      fill: #FFFFFF;\n",
              "    }\n",
              "  </style>\n",
              "\n",
              "    <script>\n",
              "      const buttonEl =\n",
              "        document.querySelector('#df-22bcb931-a386-4f60-ae5e-17e6efa2138b button.colab-df-convert');\n",
              "      buttonEl.style.display =\n",
              "        google.colab.kernel.accessAllowed ? 'block' : 'none';\n",
              "\n",
              "      async function convertToInteractive(key) {\n",
              "        const element = document.querySelector('#df-22bcb931-a386-4f60-ae5e-17e6efa2138b');\n",
              "        const dataTable =\n",
              "          await google.colab.kernel.invokeFunction('convertToInteractive',\n",
              "                                                    [key], {});\n",
              "        if (!dataTable) return;\n",
              "\n",
              "        const docLinkHtml = 'Like what you see? Visit the ' +\n",
              "          '<a target=\"_blank\" href=https://colab.research.google.com/notebooks/data_table.ipynb>data table notebook</a>'\n",
              "          + ' to learn more about interactive tables.';\n",
              "        element.innerHTML = '';\n",
              "        dataTable['output_type'] = 'display_data';\n",
              "        await google.colab.output.renderOutput(dataTable, element);\n",
              "        const docLink = document.createElement('div');\n",
              "        docLink.innerHTML = docLinkHtml;\n",
              "        element.appendChild(docLink);\n",
              "      }\n",
              "    </script>\n",
              "  </div>\n",
              "\n",
              "\n",
              "<div id=\"df-c2f36e90-dd5f-44cb-850a-4d8abcc89b75\">\n",
              "  <button class=\"colab-df-quickchart\" onclick=\"quickchart('df-c2f36e90-dd5f-44cb-850a-4d8abcc89b75')\"\n",
              "            title=\"Suggest charts.\"\n",
              "            style=\"display:none;\">\n",
              "\n",
              "<svg xmlns=\"http://www.w3.org/2000/svg\" height=\"24px\"viewBox=\"0 0 24 24\"\n",
              "     width=\"24px\">\n",
              "    <g>\n",
              "        <path d=\"M19 3H5c-1.1 0-2 .9-2 2v14c0 1.1.9 2 2 2h14c1.1 0 2-.9 2-2V5c0-1.1-.9-2-2-2zM9 17H7v-7h2v7zm4 0h-2V7h2v10zm4 0h-2v-4h2v4z\"/>\n",
              "    </g>\n",
              "</svg>\n",
              "  </button>\n",
              "\n",
              "<style>\n",
              "  .colab-df-quickchart {\n",
              "      --bg-color: #E8F0FE;\n",
              "      --fill-color: #1967D2;\n",
              "      --hover-bg-color: #E2EBFA;\n",
              "      --hover-fill-color: #174EA6;\n",
              "      --disabled-fill-color: #AAA;\n",
              "      --disabled-bg-color: #DDD;\n",
              "  }\n",
              "\n",
              "  [theme=dark] .colab-df-quickchart {\n",
              "      --bg-color: #3B4455;\n",
              "      --fill-color: #D2E3FC;\n",
              "      --hover-bg-color: #434B5C;\n",
              "      --hover-fill-color: #FFFFFF;\n",
              "      --disabled-bg-color: #3B4455;\n",
              "      --disabled-fill-color: #666;\n",
              "  }\n",
              "\n",
              "  .colab-df-quickchart {\n",
              "    background-color: var(--bg-color);\n",
              "    border: none;\n",
              "    border-radius: 50%;\n",
              "    cursor: pointer;\n",
              "    display: none;\n",
              "    fill: var(--fill-color);\n",
              "    height: 32px;\n",
              "    padding: 0;\n",
              "    width: 32px;\n",
              "  }\n",
              "\n",
              "  .colab-df-quickchart:hover {\n",
              "    background-color: var(--hover-bg-color);\n",
              "    box-shadow: 0 1px 2px rgba(60, 64, 67, 0.3), 0 1px 3px 1px rgba(60, 64, 67, 0.15);\n",
              "    fill: var(--button-hover-fill-color);\n",
              "  }\n",
              "\n",
              "  .colab-df-quickchart-complete:disabled,\n",
              "  .colab-df-quickchart-complete:disabled:hover {\n",
              "    background-color: var(--disabled-bg-color);\n",
              "    fill: var(--disabled-fill-color);\n",
              "    box-shadow: none;\n",
              "  }\n",
              "\n",
              "  .colab-df-spinner {\n",
              "    border: 2px solid var(--fill-color);\n",
              "    border-color: transparent;\n",
              "    border-bottom-color: var(--fill-color);\n",
              "    animation:\n",
              "      spin 1s steps(1) infinite;\n",
              "  }\n",
              "\n",
              "  @keyframes spin {\n",
              "    0% {\n",
              "      border-color: transparent;\n",
              "      border-bottom-color: var(--fill-color);\n",
              "      border-left-color: var(--fill-color);\n",
              "    }\n",
              "    20% {\n",
              "      border-color: transparent;\n",
              "      border-left-color: var(--fill-color);\n",
              "      border-top-color: var(--fill-color);\n",
              "    }\n",
              "    30% {\n",
              "      border-color: transparent;\n",
              "      border-left-color: var(--fill-color);\n",
              "      border-top-color: var(--fill-color);\n",
              "      border-right-color: var(--fill-color);\n",
              "    }\n",
              "    40% {\n",
              "      border-color: transparent;\n",
              "      border-right-color: var(--fill-color);\n",
              "      border-top-color: var(--fill-color);\n",
              "    }\n",
              "    60% {\n",
              "      border-color: transparent;\n",
              "      border-right-color: var(--fill-color);\n",
              "    }\n",
              "    80% {\n",
              "      border-color: transparent;\n",
              "      border-right-color: var(--fill-color);\n",
              "      border-bottom-color: var(--fill-color);\n",
              "    }\n",
              "    90% {\n",
              "      border-color: transparent;\n",
              "      border-bottom-color: var(--fill-color);\n",
              "    }\n",
              "  }\n",
              "</style>\n",
              "\n",
              "  <script>\n",
              "    async function quickchart(key) {\n",
              "      const quickchartButtonEl =\n",
              "        document.querySelector('#' + key + ' button');\n",
              "      quickchartButtonEl.disabled = true;  // To prevent multiple clicks.\n",
              "      quickchartButtonEl.classList.add('colab-df-spinner');\n",
              "      try {\n",
              "        const charts = await google.colab.kernel.invokeFunction(\n",
              "            'suggestCharts', [key], {});\n",
              "      } catch (error) {\n",
              "        console.error('Error during call to suggestCharts:', error);\n",
              "      }\n",
              "      quickchartButtonEl.classList.remove('colab-df-spinner');\n",
              "      quickchartButtonEl.classList.add('colab-df-quickchart-complete');\n",
              "    }\n",
              "    (() => {\n",
              "      let quickchartButtonEl =\n",
              "        document.querySelector('#df-c2f36e90-dd5f-44cb-850a-4d8abcc89b75 button');\n",
              "      quickchartButtonEl.style.display =\n",
              "        google.colab.kernel.accessAllowed ? 'block' : 'none';\n",
              "    })();\n",
              "  </script>\n",
              "</div>\n",
              "    </div>\n",
              "  </div>\n"
            ]
          },
          "metadata": {},
          "execution_count": 4
        }
      ]
    },
    {
      "cell_type": "code",
      "source": [
        "up=49\n",
        "down=0\n",
        "bins_=7\n",
        "\n",
        "yy=data[\"Дата решения\"].between(datetime(2021, 1, 1),datetime(2022, 1, 1))\n",
        "\n",
        "\n",
        "data[\"Первичное\"].hist(range=[down,up],bins=bins_)\n",
        "\n",
        "mean_= data[(data[\"Первичное\"]<up)].mean()[5]\n",
        "\n",
        "count_= data[(data[\"Первичное\"]<up)].count()[5]\n",
        "\n",
        "#print(count_)\n",
        "\n",
        "plt.plot([np.exp(-i/mean_)*bins_*count_/mean_ for i in range(down,up)],linewidth = 6)\n",
        "plt.show()\n",
        "#data[\"Вторичная\"].hist()\n",
        "#data[\"Третичная\"].hist()\n",
        "#print(data[(data[\"Третичное\"]<50)].mean())\n",
        "#data.head()\n",
        "\n",
        "#data[\"Time of initial completion\"].hist()\n",
        "#data[1].hist(bins=6,range=[0, 0.4])\n",
        "#data[\"Secondary completion time\"].hist()\n",
        "#data[\"Time of the tertiary review\"].hist(bins=6, range=[1, 42])\n",
        "#data[\"Time of tertiary revision\"].hist()\n",
        "#data[\"The time of the quaternary review\"].hist(bins=6, range=[1, 42])\n"
      ],
      "metadata": {
        "id": "RFf2LPwSZgLY",
        "colab": {
          "base_uri": "https://localhost:8080/",
          "height": 518
        },
        "outputId": "e79cda83-b758-49bb-fa76-69b0f49ebc72"
      },
      "execution_count": 5,
      "outputs": [
        {
          "output_type": "stream",
          "name": "stderr",
          "text": [
            "<ipython-input-5-ea6dd3f4ecfe>:10: FutureWarning: DataFrame.mean and DataFrame.median with numeric_only=None will include datetime64 and datetime64tz columns in a future version.\n",
            "  mean_= data[(data[\"Первичное\"]<up)].mean()[5]\n",
            "<ipython-input-5-ea6dd3f4ecfe>:10: FutureWarning: The default value of numeric_only in DataFrame.mean is deprecated. In a future version, it will default to False. In addition, specifying 'numeric_only=None' is deprecated. Select only valid columns or specify the value of numeric_only to silence this warning.\n",
            "  mean_= data[(data[\"Первичное\"]<up)].mean()[5]\n"
          ]
        },
        {
          "output_type": "display_data",
          "data": {
            "text/plain": [
              "<Figure size 640x480 with 1 Axes>"
            ],
            "image/png": "[encoded data removed]"
          },
          "metadata": {}
        }
      ]
    },
    {
      "cell_type": "code",
      "source": [
        "yy.head()"
      ],
      "metadata": {
        "colab": {
          "base_uri": "https://localhost:8080/"
        },
        "id": "JGjWOkhMwfgY",
        "outputId": "65aedaa0-6db7-4e35-8068-91f9d4a85650"
      },
      "execution_count": 6,
      "outputs": [
        {
          "output_type": "execute_result",
          "data": {
            "text/plain": [
              "0    False\n",
              "1    False\n",
              "2    False\n",
              "3    False\n",
              "4    False\n",
              "Name: Дата решения, dtype: bool"
            ]
          },
          "metadata": {},
          "execution_count": 6
        }
      ]
    },
    {
      "cell_type": "code",
      "source": [
        "#data.head()"
      ],
      "metadata": {
        "id": "Ss9ZPwS3qL7Y"
      },
      "execution_count": 7,
      "outputs": []
    },
    {
      "cell_type": "code",
      "source": [
        "from collections import Counter\n",
        "\n",
        "print(Counter(data[\"Решение\"]))\n",
        "\n",
        "\"\"\"\n",
        ">>> from collections import Counter\n",
        ">>> cnt = Counter(['red', 'blue', 'red', 'green', 'blue', 'blue'])\n",
        ">>> dict(cnt)\n",
        "\n",
        "\"\"\""
      ],
      "metadata": {
        "id": "1NPjXFP4ENm3",
        "colab": {
          "base_uri": "https://localhost:8080/",
          "height": 52
        },
        "outputId": "8cadf4c2-35fe-4f3a-bfec-e8cfbea3b8f6"
      },
      "execution_count": 8,
      "outputs": [
        {
          "output_type": "stream",
          "name": "stdout",
          "text": [
            "Counter({'доработка': 783, 'положительно': 464, 'отрицательно': 405})\n"
          ]
        },
        {
          "output_type": "execute_result",
          "data": {
            "text/plain": [
              "\"\\n>>> from collections import Counter\\n>>> cnt = Counter(['red', 'blue', 'red', 'green', 'blue', 'blue'])\\n>>> dict(cnt)\\n\\n\""
            ],
            "application/vnd.google.colaboratory.intrinsic+json": {
              "type": "string"
            }
          },
          "metadata": {},
          "execution_count": 8
        }
      ]
    },
    {
      "cell_type": "code",
      "source": [
        "\n",
        "\n",
        "#x=data[(data[\"Рецензент\"]==\"Большаков\")]\n",
        "\n",
        "x=data[(data[\"Дата поступления\"]>datetime(2018,1,1)) & (data[\"Дата поступления\"]>datetime(2019,1,1))]\n",
        "y=data[(data[\"Дата поступления\"]>datetime(2017,1,1)) & (data[\"Дата поступления\"]>datetime(2018,1,1))]\n",
        "z=data[(data[\"Дата поступления\"]>datetime(2019,1,1)) & (data[\"Дата поступления\"]>datetime(2020,1,1))]\n",
        "z1=data[(data[\"Дата поступления\"]>datetime(2019,1,1)) & (data[\"Дата поступления\"]>datetime(2020,1,1))]\n",
        "\n",
        "x.head()\n",
        "#for i in range(2015,2024):\n",
        "  #print(i-1, x[(x[\"Поступила\"]>datetime(i-1, 1, 1)) & (x[\"Поступила\"]<datetime(i, 1, 1)) & (x[\"Решение\"]==\"положительно\")].count()[0])\n",
        "\n",
        "#x[\"Первичное\"].hist(range=[down,up],bins=bins_)\n",
        "y[\"Первичное\"].hist(range=[down,up],bins=bins_)\n",
        "z[\"Первичное\"].hist(range=[down,up],bins=bins_)\n",
        "#z1[\"Первичное\"].hist(range=[down,up],bins=bins_)\n",
        "\n",
        "\n",
        "mean_= x[(data[\"Первичное\"]<up)].mean()[5]\n",
        "\n",
        "count_= x[(data[\"Первичное\"]<up)].count()[5]\n",
        "\n",
        "#print(count_)\n",
        "\n",
        "plt.plot([np.exp(-i/mean_)*bins_*count_/mean_ for i in range(down,up)],linewidth = 6)\n",
        "plt.show()"
      ],
      "metadata": {
        "id": "lXjiFH_xvN4h",
        "colab": {
          "base_uri": "https://localhost:8080/",
          "height": 586
        },
        "outputId": "c934ed52-5210-4a87-a414-e8e96900249a"
      },
      "execution_count": 9,
      "outputs": [
        {
          "output_type": "stream",
          "name": "stderr",
          "text": [
            "<ipython-input-9-4953db0c4e7e>:18: UserWarning: Boolean Series key will be reindexed to match DataFrame index.\n",
            "  mean_= x[(data[\"Первичное\"]<up)].mean()[5]\n",
            "<ipython-input-9-4953db0c4e7e>:18: FutureWarning: DataFrame.mean and DataFrame.median with numeric_only=None will include datetime64 and datetime64tz columns in a future version.\n",
            "  mean_= x[(data[\"Первичное\"]<up)].mean()[5]\n",
            "<ipython-input-9-4953db0c4e7e>:18: FutureWarning: The default value of numeric_only in DataFrame.mean is deprecated. In a future version, it will default to False. In addition, specifying 'numeric_only=None' is deprecated. Select only valid columns or specify the value of numeric_only to silence this warning.\n",
            "  mean_= x[(data[\"Первичное\"]<up)].mean()[5]\n",
            "<ipython-input-9-4953db0c4e7e>:20: UserWarning: Boolean Series key will be reindexed to match DataFrame index.\n",
            "  count_= x[(data[\"Первичное\"]<up)].count()[5]\n"
          ]
        },
        {
          "output_type": "display_data",
          "data": {
            "text/plain": [
              "<Figure size 640x480 with 1 Axes>"
            ],
            "image/png": "[encoded data removed]"
          },
          "metadata": {}
        }
      ]
    },
    {
      "cell_type": "code",
      "source": [
        "x=data[(data[\"Рецензент\"]==\"Большаков\")]\n",
        "\n",
        "x.head()\n",
        "\n",
        "resh=[\"положительно\",\"отрицательно\",\"доработка\"]\n",
        "print(\"год\\t+\\t-\\t+/-\\tall\")\n",
        "for i in range(2015,2024):\n",
        "  print(i-1,end=\"\\t\")\n",
        "\n",
        "  for j in resh:\n",
        "      print(x[(x[\"Дата поступления\"]>datetime(i-1, 1, 1)) & (x[\"Дата поступления\"]<datetime(i, 1, 1)) & (x[\"Решение\"]==j)].count()[0],end=\"\\t\")\n",
        "\n",
        "  print(x[(x[\"Дата поступления\"]>datetime(i-1, 1, 1)) & (x[\"Дата поступления\"]<datetime(i, 1, 1))].count()[0])"
      ],
      "metadata": {
        "id": "EFGGH1CbqjUJ",
        "colab": {
          "base_uri": "https://localhost:8080/"
        },
        "outputId": "0779b0bd-3924-48a1-fec5-8b60a03da6a9"
      },
      "execution_count": 10,
      "outputs": [
        {
          "output_type": "stream",
          "name": "stdout",
          "text": [
            "год\t+\t-\t+/-\tall\n",
            "2014\t48\t12\t6\t66\n",
            "2015\t16\t2\t7\t25\n",
            "2016\t20\t5\t6\t31\n",
            "2017\t26\t37\t20\t83\n",
            "2018\t5\t16\t10\t31\n",
            "2019\t1\t8\t4\t13\n",
            "2020\t3\t11\t5\t19\n",
            "2021\t1\t10\t3\t14\n",
            "2022\t0\t19\t2\t21\n"
          ]
        }
      ]
    },
    {
      "cell_type": "code",
      "source": [
        "data.shape"
      ],
      "metadata": {
        "id": "Kj8wJwxH8BW5",
        "colab": {
          "base_uri": "https://localhost:8080/"
        },
        "outputId": "63949c37-1325-4532-f3f1-b423c305965c"
      },
      "execution_count": 11,
      "outputs": [
        {
          "output_type": "execute_result",
          "data": {
            "text/plain": [
              "(1652, 29)"
            ]
          },
          "metadata": {},
          "execution_count": 11
        }
      ]
    },
    {
      "cell_type": "code",
      "source": [],
      "metadata": {
        "id": "mqdhqV93liv1"
      },
      "execution_count": 11,
      "outputs": []
    }
  ]
}