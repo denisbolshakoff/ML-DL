{
  "nbformat": 4,
  "nbformat_minor": 0,
  "metadata": {
    "colab": {
      "provenance": [],
      "authorship_tag": "ABX9TyOCJGomzqG8sJ3d/N5+qPzF",
      "include_colab_link": true
    },
    "kernelspec": {
      "name": "ir",
      "display_name": "R"
    },
    "language_info": {
      "name": "R"
    }
  },
  "cells": [
    {
      "cell_type": "markdown",
      "metadata": {
        "id": "view-in-github",
        "colab_type": "text"
      },
      "source": [
        "<a href=\"https://colab.research.google.com/github/denisbolshakoff/ML-DL/blob/main/R_Combine_Reviewiers.ipynb\" target=\"_parent\"><img src=\"https://colab.research.google.com/assets/colab-badge.svg\" alt=\"Open In Colab\"/></a>"
      ]
    },
    {
      "cell_type": "code",
      "execution_count": 9,
      "metadata": {
        "id": "aqDlxwtAwO9z"
      },
      "outputs": [],
      "source": [
        "# Скрипт для получения уникальных записей о связях рецензентов в редакционной коллегии для построения графа-связей.\n",
        "\n",
        "my_txt<-strsplit(readLines(\"1csv.txt\"),split='\\n')\n",
        "\n",
        "for (i in 1:length(my_txt)){\n",
        "  new_ = rbind(new_, t(combn(sort(as.numeric(unlist(strsplit(as.character(my_txt[i]),split=',')))),2)))\n",
        "  }\n",
        "\n",
        "write.table(unique(new_),\"my_data.txt\",sep=\",\",row.names=F, col.names=F)\n",
        "\n",
        "\n"
      ]
    }
  ]
}